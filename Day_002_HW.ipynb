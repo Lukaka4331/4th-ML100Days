{
  "nbformat": 4,
  "nbformat_minor": 0,
  "metadata": {
    "kernelspec": {
      "display_name": "Python 3",
      "language": "python",
      "name": "python3"
    },
    "language_info": {
      "codemirror_mode": {
        "name": "ipython",
        "version": 3
      },
      "file_extension": ".py",
      "mimetype": "text/x-python",
      "name": "python",
      "nbconvert_exporter": "python",
      "pygments_lexer": "ipython3",
      "version": "3.5.5"
    },
    "colab": {
      "name": "Day_002_HW.ipynb",
      "provenance": [],
      "collapsed_sections": []
    }
  },
  "cells": [
    {
      "cell_type": "markdown",
      "metadata": {
        "id": "L0g4NZYMiqUD",
        "colab_type": "text"
      },
      "source": [
        "## [作業目標]\n",
        "了解機器學習適合應用的領域與範疇。"
      ]
    },
    {
      "cell_type": "markdown",
      "metadata": {
        "id": "8IBLN-R-iqUI",
        "colab_type": "text"
      },
      "source": [
        "## [作業重點]\n",
        "透過瞭解機器學習的運作方式，找出非常適用機器學習應用的領域及其原因"
      ]
    },
    {
      "cell_type": "markdown",
      "metadata": {
        "id": "gSm_S5xSiqUK",
        "colab_type": "text"
      },
      "source": [
        "## 作業\n",
        "請找出一個你認為機器學習可以發光發熱的領域並闡述原因? \n",
        "\n",
        "現在是資訊爆炸的年代，誰能夠從資料中發掘出價值就變得孰為重要\n",
        "* 例如:AI醫學影像辨識，就能成為很好的醫學輔助工具"
      ]
    },
    {
      "cell_type": "markdown",
      "metadata": {
        "id": "s9NM7u61iqUM",
        "colab_type": "text"
      },
      "source": [
        "# 機器學習、深度學習與人工智慧差別是甚麼?"
      ]
    },
    {
      "cell_type": "markdown",
      "metadata": {
        "id": "IMEap_ZdiqUO",
        "colab_type": "text"
      },
      "source": [
        "人⼯工智慧的技術之一:\n",
        "* 機器學習: 因為近幾年年機器學習的表現遠超過其他傳統技術，才蔚為風潮\n",
        "    * 機器學習中的一個分⽀:\n",
        "        * 深度學習:同樣是 近幾年年的表現遠超過傳統機器學習演算法，才被⼈人們所關注\n",
        "\n",
        "![alt text](https://4.bp.blogspot.com/-5ZUW8ZUabBc/W6Ez5-zsdsI/AAAAAAAACkY/6K4y-pfRR50y8LwQLG5hNr20abjqTYfOwCLcBGAs/s1600/image10.png)        "
      ]
    },
    {
      "cell_type": "markdown",
      "metadata": {
        "id": "jumEJPlEkaJ6",
        "colab_type": "text"
      },
      "source": [
        "機器學習有三種! 各自有不同的應用 \n",
        "1. **監督式學習** **(常見的應用多屬此類)** **:** \n",
        "  * **圖像分類、詐騙偵測** \n",
        "2. **非監督式學習** **:**\n",
        "  * **維度縮減、分群、壓縮等**\n",
        "3. **增強式學習** **:**\n",
        "  * **下圍棋、打電玩**"
      ]
    },
    {
      "cell_type": "markdown",
      "metadata": {
        "id": "stUl4g_8lvRP",
        "colab_type": "text"
      },
      "source": [
        "機器學習 -  監督式學習 (Supervised Learning)"
      ]
    },
    {
      "cell_type": "markdown",
      "metadata": {
        "id": "Ta_QDpiZl4VW",
        "colab_type": "text"
      },
      "source": [
        "* 會有一組成對的 (x, y) 資料，且 x 與 y 之間具有某種關係，如圖像分類， 每一張圖都有對應到的標記 (y)，讓模型學習到 x 與 y 之間的對應關係 \n",
        "\n",
        "* 目前主流且具有高準確率的機器學習應用多以此類型為主，但缺點是必須要蒐集標註資料"
      ]
    },
    {
      "cell_type": "markdown",
      "metadata": {
        "id": "lAq0f7-BmsFM",
        "colab_type": "text"
      },
      "source": [
        "機器學習 -  非監督式學習 (Unsupervised Learning)"
      ]
    },
    {
      "cell_type": "markdown",
      "metadata": {
        "id": "7zX0Yrg8muM8",
        "colab_type": "text"
      },
      "source": [
        "* 僅有 x 資料而沒有標註的 y，例如僅有圖像資料但沒有標記。 \n",
        "* 非監督式學習通常透過降維 (Dimension Reduction)、分群 (Clustering)的方式實現 \n",
        "* 非監督式的準確率通常都低於監督式學習，但如果資料收集非常困難時， 可應用此⽅方法"
      ]
    },
    {
      "cell_type": "markdown",
      "metadata": {
        "id": "T1hKgqGgnDib",
        "colab_type": "text"
      },
      "source": [
        "機器學習 -  增強式學習 (Reinforcement Learning) "
      ]
    },
    {
      "cell_type": "markdown",
      "metadata": {
        "id": "5FgHVMH1nFp4",
        "colab_type": "text"
      },
      "source": [
        "* 增強式學習是透過定義環境 (Environment)、代理理機器人 (Agent) 及獎勵 (Reward)，讓機器人透過與環境的互動學習如何獲取最高的獎勵。\n",
        "* Alpha GO 就是透過增強式學習的⽅方式 訓練，增強式學習近幾年年在棋類、遊戲類都取得巨大的進展，是目前非常熱門的研究領域。\n"
      ]
    },
    {
      "cell_type": "markdown",
      "metadata": {
        "id": "i0FQVl9unkEk",
        "colab_type": "text"
      },
      "source": [
        "![alt text](https://vtoliveira.github.io/assets/images/rl.png)"
      ]
    },
    {
      "cell_type": "code",
      "metadata": {
        "id": "CZwbmLHHiqUQ",
        "colab_type": "code",
        "colab": {}
      },
      "source": [
        ""
      ],
      "execution_count": 0,
      "outputs": []
    }
  ]
}