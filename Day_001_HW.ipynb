{
  "nbformat": 4,
  "nbformat_minor": 0,
  "metadata": {
    "anaconda-cloud": {},
    "kernelspec": {
      "name": "python3",
      "display_name": "Python 3"
    },
    "language_info": {
      "codemirror_mode": {
        "name": "ipython",
        "version": 3
      },
      "file_extension": ".py",
      "mimetype": "text/x-python",
      "name": "python",
      "nbconvert_exporter": "python",
      "pygments_lexer": "ipython3",
      "version": "3.7.0"
    },
    "colab": {
      "name": "Day_001_HW.ipynb",
      "provenance": []
    },
    "accelerator": "GPU"
  },
  "cells": [
    {
      "cell_type": "markdown",
      "metadata": {
        "id": "TmgVQBo2kM8O",
        "colab_type": "text"
      },
      "source": [
        "## 練習時間\n",
        "#### 請寫一個函式用來計算 Mean Square Error\n",
        "$ MSE = \\frac{1}{n}\\sum_{i=1}^{n}{(Y_i - \\hat{Y}_i)^2} $\n",
        "\n",
        "### Hint: [如何取平方](https://googoodesign.gitbooks.io/-ezpython/unit-1.html)"
      ]
    },
    {
      "cell_type": "markdown",
      "metadata": {
        "id": "B3fspehHkM8T",
        "colab_type": "text"
      },
      "source": [
        "# [作業目標]\n",
        "- 仿造範例的MAE函數, 自己寫一個MSE函數(參考上面公式)"
      ]
    },
    {
      "cell_type": "markdown",
      "metadata": {
        "id": "NGKp_Y6ZkM8U",
        "colab_type": "text"
      },
      "source": [
        "# [作業重點]\n",
        "- 注意程式的縮排\n",
        "- 是否能將數學公式, 轉換為 Python 的函式組合? (In[2], Out[2])"
      ]
    },
    {
      "cell_type": "code",
      "metadata": {
        "id": "abYeQiLGkM8V",
        "colab_type": "code",
        "colab": {}
      },
      "source": [
        "# 載入基礎套件與代稱\n",
        "import numpy as np\n",
        "import matplotlib.pyplot as plt"
      ],
      "execution_count": 0,
      "outputs": []
    },
    {
      "cell_type": "code",
      "metadata": {
        "id": "tyeHIw5bkM8Z",
        "colab_type": "code",
        "colab": {}
      },
      "source": [
        "def mean_absolute_error(y, yp):\n",
        "    \"\"\"\n",
        "    計算 MAE\n",
        "    Args:\n",
        "        - y: 實際值\n",
        "        - yp: 預測值\n",
        "    Return:\n",
        "        - mae: MAE\n",
        "    \"\"\"\n",
        "    mae = MAE = sum(abs(y - yp)) / len(y)\n",
        "    return mae\n",
        "\n",
        "# 定義 mean_squared_error 這個函數, 計算並傳回 MSE\n",
        "def mean_squared_error(y, yp):\n",
        "    \"\"\"\n",
        "    請完成這個 Function 後往下執行\n",
        "    \"\"\"\n",
        "\n",
        "    mse = MSE = sum((y - yp) ** 2) / len(y)\n",
        "    return mse"
      ],
      "execution_count": 0,
      "outputs": []
    },
    {
      "cell_type": "code",
      "metadata": {
        "id": "5B65f0cHkM8c",
        "colab_type": "code",
        "outputId": "4275f68d-ed75-4539-cc2c-00f449482f9b",
        "colab": {
          "base_uri": "https://localhost:8080/",
          "height": 281
        }
      },
      "source": [
        "# 與範例相同, 不另外解說\n",
        "w = 3\n",
        "b = 0.5\n",
        "x_lin = np.linspace(0, 100, 101)\n",
        "y = (x_lin + np.random.randn(101) * 5) * w + b\n",
        "\n",
        "plt.plot(x_lin, y, 'b.', label = 'data points')\n",
        "plt.title(\"Assume we have data points\")\n",
        "plt.legend(loc = 2)\n",
        "plt.show()"
      ],
      "execution_count": 0,
      "outputs": [
        {
          "output_type": "display_data",
          "data": {
            "image/png": "[encoded data removed]",
            "text/plain": [
              "<Figure size 432x288 with 1 Axes>"
            ]
          },
          "metadata": {
            "tags": []
          }
        }
      ]
    },
    {
      "cell_type": "code",
      "metadata": {
        "id": "RkhaMuh7kM8h",
        "colab_type": "code",
        "outputId": "6caa6647-b780-4141-ebfb-72956e7d21aa",
        "colab": {
          "base_uri": "https://localhost:8080/",
          "height": 281
        }
      },
      "source": [
        "# 與範例相同, 不另外解說\n",
        "y_hat = x_lin * w + b\n",
        "plt.plot(x_lin, y, 'b.', label = 'data')\n",
        "plt.plot(x_lin, y_hat, 'r-', label = 'prediction')\n",
        "plt.title(\"Assume we have data points (And the prediction)\")\n",
        "plt.legend(loc = 2)\n",
        "plt.show()"
      ],
      "execution_count": 0,
      "outputs": [
        {
          "output_type": "display_data",
          "data": {
            "image/png": "[encoded data removed]",
            "text/plain": [
              "<Figure size 432x288 with 1 Axes>"
            ]
          },
          "metadata": {
            "tags": []
          }
        }
      ]
    },
    {
      "cell_type": "code",
      "metadata": {
        "id": "7A_L1_t0kM8k",
        "colab_type": "code",
        "outputId": "c793dd77-0a1c-45fb-bc1a-2fce4f9e1455",
        "colab": {
          "base_uri": "https://localhost:8080/",
          "height": 54
        }
      },
      "source": [
        "# 執行 Function, 確認有沒有正常執行\n",
        "\n",
        "MSE = mean_squared_error(y, y_hat)\n",
        "MAE = mean_absolute_error(y, y_hat)\n",
        "print(\"The Mean square error(MSE) is %.3f\" % (MSE))\n",
        "print(\"The Mean absolute error(MAE) is %.3f\" % (MAE))\n",
        "\n"
      ],
      "execution_count": 0,
      "outputs": [
        {
          "output_type": "stream",
          "text": [
            "The Mean square error(MSE) is 273.663\n",
            "The Mean absolute error(MAE) is 13.135\n"
          ],
          "name": "stdout"
        }
      ]
    },
    {
      "cell_type": "markdown",
      "metadata": {
        "id": "PVIxcR0bkM8o",
        "colab_type": "text"
      },
      "source": [
        "# [作業2]\n",
        "\n",
        "請上 Kaggle, 在 Competitions 或 Dataset 中找一組競賽或資料並寫下：\n",
        "* [YouTube影片趨勢統計](https://www.kaggle.com/datasnaek/youtube-new)\n",
        "\n",
        "# 1. 你選的這組資料為何重要\n",
        "\n",
        "* 找出YouTube熱門影片\n",
        "\n",
        "# 2. 資料從何而來 (tips: 譬如提供者是誰、以什麼方式蒐集)\n",
        "\n",
        "* [YouTube 熱門影片抓取工具](https://github.com/mitchelljy/Trending-YouTube-Scraper)\n",
        "* [YouTube 發燒影片](https://www.youtube.com/feed/trending)\n",
        "\n",
        "# 3. 蒐集而來的資料型態為何\n",
        "\n",
        "* csv\n",
        "* json\n",
        "\n",
        "# 4. 這組資料想解決的問題如何評估\n",
        "\n",
        "* 多種形式的情感分析 \n",
        "* 根據YouTube視頻的評論和統計信息對其分類。\n",
        "* 訓練RNN等機器學習算法來生成自己的YouTube評論。\n",
        "* 分析哪些因素會影響YouTube視頻的受歡迎程度。\n",
        "* 隨著時間的推移進行統計分析。\n",
        "\n",
        "使用NLP進行情感分析好與不好，邏輯回歸預測受歡迎程度等等~\n",
        "\n",
        "\n",
        "\n"
      ]
    },
    {
      "cell_type": "markdown",
      "metadata": {
        "id": "mlb1jTipo3Tv",
        "colab_type": "text"
      },
      "source": [
        "# [作業3]\n",
        "想像你經營一個自由載客車隊，你希望能透過數據分析以提升業績，請你思考並描述你如何規劃整體的分析/解決方案：\n",
        "\n",
        "# 1.核心問題為何 (tips：如何定義 「提升業績 & 你的假設」)\n",
        "\n",
        "* 1.如何將資源(派遣的車輛)最大化，減少車隊平均待客時間\n",
        "* 2.分析哪個區域的流量/叫車率最大，可能會受時間、天氣等影響\n",
        "* 3.如何提高客單價\n",
        "* 4.分析哪個區域的載客旅途最長，如大型商務會議舉辦或是觀光等(載客熱點預測)\n",
        "* 5.區隔平價車和高價車種的服務，利用數據分析使用比率和叫車率較高的區域等\n",
        "\n",
        "# 2.資料從何而來（提示：一些資料可能引起你想問的問題產生影響＆資料如何蒐集）\n",
        "\n",
        "* 1.上下車時間（月份，星期幾）\n",
        "* 2.上下車地點（熱區）\n",
        "* 3.上下車天氣\n",
        "* 4.旅客相關資訊\n",
        "* 5.上下車地點相關活動\n",
        "\n",
        "# 3.蒐集而來的資料型態為何\n",
        "* 1.String：時間，天氣，乘客相關資訊，相關活動\n",
        "\n",
        "* 2.Int：地點（經緯度），乘客相關資訊\n",
        "\n",
        "* 3.Boolean：是否使用高價車種服務\n",
        "\n",
        "* 以csv形式紀錄\n",
        "\n",
        "#4.你要回答的問題，其如何評估（提示：你的假設如何驗證）\n",
        "\n",
        "* 1.以資料驗證流量高的地區，為常態性或非常態性，若為非常態性，又受某些變數影響最大，利用所得來預測將來可能的流量\n",
        "* 2.利用乘客的相關資訊，和其他相關行車資料，來預測高客單價的旅程常在哪出現，並進行配置"
      ]
    },
    {
      "cell_type": "code",
      "metadata": {
        "id": "kL1wXaI7o9Yt",
        "colab_type": "code",
        "colab": {}
      },
      "source": [
        ""
      ],
      "execution_count": 0,
      "outputs": []
    }
  ]
}